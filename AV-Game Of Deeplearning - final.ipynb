{
 "cells": [
  {
   "cell_type": "code",
   "execution_count": 1,
   "metadata": {
    "colab": {
     "base_uri": "https://localhost:8080/",
     "height": 54
    },
    "colab_type": "code",
    "id": "hBwKdNd2Z2De",
    "outputId": "f94ee527-22e6-46e9-e48a-befe4eab9c6a"
   },
   "outputs": [
    {
     "name": "stdout",
     "output_type": "stream",
     "text": [
      "['imagenet_class_index.json', 'inception_v3_weights_tf_dim_ordering_tf_kernels_notop.h5', 'xception_weights_tf_dim_ordering_tf_kernels.h5', 'inception_v3_weights_tf_dim_ordering_tf_kernels.h5', 'resnet50_weights_tf_dim_ordering_tf_kernels.h5', 'xception_weights_tf_dim_ordering_tf_kernels_notop.h5', 'vgg16_weights_tf_dim_ordering_tf_kernels_notop.h5', 'inception_resnet_v2_weights_tf_dim_ordering_tf_kernels.h5', 'inception_resnet_v2_weights_tf_dim_ordering_tf_kernels_notop.h5', 'resnet50_weights_tf_dim_ordering_tf_kernels_notop.h5', 'Kuszma.JPG']\n"
     ]
    }
   ],
   "source": [
    "import pandas as pd\n",
    "import numpy as np\n",
    "import matplotlib.pyplot as plt\n",
    "import json\n",
    "import os\n",
    "from tqdm import tqdm, tqdm_notebook\n",
    "\n",
    "import tensorflow as tf\n",
    "from tensorflow.keras.models import Sequential, Model\n",
    "from tensorflow.keras.layers import *\n",
    "from tensorflow.keras.optimizers import *\n",
    "from tensorflow.keras.applications import *\n",
    "from tensorflow.keras.callbacks import *\n",
    "from tensorflow.keras.initializers import *\n",
    "from tensorflow.keras.preprocessing.image import ImageDataGenerator\n",
    "import time\n",
    "# For example, running this (by clicking run or pressing Shift+Enter) will list the files in the input directory\n",
    "\n",
    "import os\n",
    "print(os.listdir(\"../input/keras-pretrained-models\"))"
   ]
  },
  {
   "cell_type": "code",
   "execution_count": 2,
   "metadata": {
    "colab": {},
    "colab_type": "code",
    "id": "dQZgQ-AraKmn"
   },
   "outputs": [],
   "source": [
    "# root_path = '../input/game-of-deep-learning-ship-datasets/train/'"
   ]
  },
  {
   "cell_type": "code",
   "execution_count": 3,
   "metadata": {
    "colab": {
     "base_uri": "https://localhost:8080/",
     "height": 34
    },
    "colab_type": "code",
    "id": "i2iOWao3apsO",
    "outputId": "01f3aa25-55d1-4d8c-a285-32d9028df0a2"
   },
   "outputs": [
    {
     "name": "stdout",
     "output_type": "stream",
     "text": [
      "['__notebook__.ipynb', '__output__.json']\n"
     ]
    }
   ],
   "source": [
    "# !pip install PyDrive\n",
    "\n",
    "# from pydrive.auth import GoogleAuth\n",
    "# from pydrive.drive import GoogleDrive\n",
    "# from google.colab import auth\n",
    "# from oauth2client.client import GoogleCredentials\n",
    "\n",
    "# auth.authenticate_user()\n",
    "# gauth = GoogleAuth()\n",
    "# gauth.credentials = GoogleCredentials.get_application_default()\n",
    "# drive = GoogleDrive(gauth)\n",
    "\n",
    "# download = drive.CreateFile({'id': '1yoygVWIL21qEOjbD6KJ9_B1t_FyApAzI'})\n",
    "# download.GetContentFile('train.zip')\n",
    "# !unzip -q \"train.zip\"\n",
    "import os\n",
    "print(os.listdir())"
   ]
  },
  {
   "cell_type": "code",
   "execution_count": 4,
   "metadata": {
    "colab": {
     "base_uri": "https://localhost:8080/",
     "height": 34
    },
    "colab_type": "code",
    "id": "s-4slALhbKuC",
    "outputId": "4ba879b7-60fe-4bc6-c921-a49abd6c4201"
   },
   "outputs": [],
   "source": [
    "# !unzip -q \"gdrive/My Drive/AVDeeplearning/train.zip\" -d \"gdrive/My Drive/AVDeeplearning/\""
   ]
  },
  {
   "cell_type": "code",
   "execution_count": 5,
   "metadata": {
    "colab": {},
    "colab_type": "code",
    "id": "iD4_qdK8bxqE"
   },
   "outputs": [],
   "source": [
    "# img_dir='gdrive/My Drive/AVDeeplearning/images/'"
   ]
  },
  {
   "cell_type": "code",
   "execution_count": 6,
   "metadata": {
    "colab": {
     "base_uri": "https://localhost:8080/",
     "height": 54
    },
    "colab_type": "code",
    "id": "HbGzBJOKApYo",
    "outputId": "5d946594-94ce-489a-b342-b994d76a179b"
   },
   "outputs": [],
   "source": [
    "# print(os.listdir(img_dir))"
   ]
  },
  {
   "cell_type": "code",
   "execution_count": 7,
   "metadata": {
    "colab": {},
    "colab_type": "code",
    "id": "tg-jYGwqckcc"
   },
   "outputs": [],
   "source": [
    "\n",
    "# For example, running this (by clicking run or pressing Shift+Enter) will list the files in the input directory"
   ]
  },
  {
   "cell_type": "code",
   "execution_count": 8,
   "metadata": {
    "colab": {
     "base_uri": "https://localhost:8080/",
     "height": 195
    },
    "colab_type": "code",
    "id": "0SWdmrz8cpjX",
    "outputId": "d342f073-30b7-4347-a768-fbfe4881d675"
   },
   "outputs": [],
   "source": [
    "train_df=pd.read_csv('../input/game-of-deep-learning-ship-datasets/train/train.csv')\n",
    "test_df=pd.read_csv('../input/game-of-deep-learning-ship-datasets/test_ApKoW4T.csv')"
   ]
  },
  {
   "cell_type": "code",
   "execution_count": 9,
   "metadata": {
    "colab": {
     "base_uri": "https://localhost:8080/",
     "height": 50
    },
    "colab_type": "code",
    "id": "6yZLZ6rec1ML",
    "outputId": "47973e09-d7e0-448d-ad7a-0db69785cdea"
   },
   "outputs": [
    {
     "data": {
      "text/plain": [
       "array(['2823080.jpg', '2870024.jpg', '2662125.jpg', ..., '2898652.jpg',\n",
       "       '2868175.jpg', '2784171.jpg'], dtype=object)"
      ]
     },
     "execution_count": 9,
     "metadata": {},
     "output_type": "execute_result"
    }
   ],
   "source": [
    "train_images=np.array(train_df.iloc[:,0])\n",
    "train_images"
   ]
  },
  {
   "cell_type": "code",
   "execution_count": 10,
   "metadata": {
    "colab": {
     "base_uri": "https://localhost:8080/",
     "height": 118
    },
    "colab_type": "code",
    "id": "7zKlgTKQ7VVf",
    "outputId": "a21a445b-9b7b-4a0f-9146-2ca50ff53cb0"
   },
   "outputs": [
    {
     "data": {
      "text/plain": [
       "1    2120\n",
       "5    1217\n",
       "2    1167\n",
       "3     916\n",
       "4     832\n",
       "Name: category, dtype: int64"
      ]
     },
     "execution_count": 10,
     "metadata": {},
     "output_type": "execute_result"
    }
   ],
   "source": [
    "train_df['category'].value_counts()"
   ]
  },
  {
   "cell_type": "code",
   "execution_count": 11,
   "metadata": {
    "colab": {
     "base_uri": "https://localhost:8080/",
     "height": 286
    },
    "colab_type": "code",
    "id": "eYmoSM86c-9I",
    "outputId": "6ca62f14-50da-4536-e6f5-a710f3491ee0"
   },
   "outputs": [
    {
     "name": "stdout",
     "output_type": "stream",
     "text": [
      "Image shape = (158, 210, 3)\n"
     ]
    },
    {
     "data": {
      "image/png": "[encoded data removed]",
      "text/plain": [
       "<Figure size 432x288 with 1 Axes>"
      ]
     },
     "metadata": {},
     "output_type": "display_data"
    }
   ],
   "source": [
    "img_dir='../input/game-of-deep-learning-ship-datasets/train/images/'\n",
    "image = plt.imread(img_dir+train_images[150])\n",
    "print(\"Image shape =\", image.shape)\n",
    "train_input_shape = image.shape\n",
    "plt.imshow(image)\n",
    "plt.show()"
   ]
  },
  {
   "cell_type": "code",
   "execution_count": 12,
   "metadata": {
    "colab": {
     "base_uri": "https://localhost:8080/",
     "height": 34
    },
    "colab_type": "code",
    "id": "jXof3UN_dCOt",
    "outputId": "ab610c26-a8ef-4204-8b04-34a43f093972"
   },
   "outputs": [
    {
     "name": "stdout",
     "output_type": "stream",
     "text": [
      "Number of unique classes = 5\n"
     ]
    }
   ],
   "source": [
    "n_classes = len(train_df.category.unique())\n",
    "print(\"Number of unique classes =\", n_classes)"
   ]
  },
  {
   "cell_type": "code",
   "execution_count": 13,
   "metadata": {
    "colab": {},
    "colab_type": "code",
    "id": "zA63k4NFe8-P"
   },
   "outputs": [],
   "source": [
    "train_df['category']=train_df['category'].astype('str')"
   ]
  },
  {
   "cell_type": "code",
   "execution_count": 14,
   "metadata": {
    "colab": {
     "base_uri": "https://localhost:8080/",
     "height": 50
    },
    "colab_type": "code",
    "id": "qnCTCP7Ee_Xx",
    "outputId": "a84f4803-0014-49b6-a360-4eeedae1f615"
   },
   "outputs": [
    {
     "name": "stdout",
     "output_type": "stream",
     "text": [
      "Found 4689 images belonging to 5 classes.\n",
      "Found 1563 images belonging to 5 classes.\n"
     ]
    }
   ],
   "source": [
    "IMG_SIZE = 331\n",
    "BATCH_SIZE = 16\n",
    "datagen = ImageDataGenerator(rescale=1./255, validation_split=0.25)\n",
    "train_generator = datagen.flow_from_dataframe(dataframe=train_df,\n",
    "                                              directory=img_dir,\n",
    "                                              x_col=\"image\",\n",
    "                                              y_col=\"category\",\n",
    "                                              target_size=(IMG_SIZE, IMG_SIZE),\n",
    "                                              batch_size=BATCH_SIZE,\n",
    "                                              seed=42,\n",
    "                                              subset=\"training\",\n",
    "                                              class_mode=\"categorical\",\n",
    "                                             color_mode='rgb',\n",
    "                                             shuffle=True)\n",
    "\n",
    "valid_generator = datagen.flow_from_dataframe(dataframe=train_df,\n",
    "                                              directory=img_dir,\n",
    "                                              x_col=\"image\",\n",
    "                                              y_col=\"category\",\n",
    "                                              target_size=(IMG_SIZE, IMG_SIZE),\n",
    "                                              batch_size=BATCH_SIZE,\n",
    "                                              seed=42,\n",
    "                                              subset=\"validation\",\n",
    "                                              class_mode=\"categorical\",\n",
    "                                             color_mode='rgb',\n",
    "                                             shuffle=True)"
   ]
  },
  {
   "cell_type": "code",
   "execution_count": 15,
   "metadata": {
    "colab": {},
    "colab_type": "code",
    "id": "7us_QVuCfEyG"
   },
   "outputs": [],
   "source": [
    "def loss_accuracy_plot(history):\n",
    "    plt.figure(figsize=(15,10))\n",
    "    plt.subplot(2, 2, 1)\n",
    "    plt.plot(history.history['loss'])\n",
    "    plt.plot(history.history['val_loss'])\n",
    "    plt.title('model loss')\n",
    "    plt.ylabel('loss')\n",
    "    plt.xlabel('epoch')\n",
    "    plt.legend(['train', 'validation'], loc='best')\n",
    "\n",
    "    plt.subplot(2, 2, 2)\n",
    "    plt.plot(history.history['acc'])\n",
    "    plt.plot(history.history['val_acc'])\n",
    "    plt.title('model accuracy')\n",
    "    plt.ylabel('accuracy')\n",
    "    plt.xlabel('epoch')\n",
    "    plt.legend(['train', 'validation'], loc='best')\n",
    "    plt.show()"
   ]
  },
  {
   "cell_type": "code",
   "execution_count": 16,
   "metadata": {
    "colab": {},
    "colab_type": "code",
    "id": "C45Ap_b7fH7H"
   },
   "outputs": [],
   "source": [
    "\n",
    "def get_test_data():\n",
    "    test_datagen=ImageDataGenerator(rescale=1./255.)\n",
    "    test_generator=test_datagen.flow_from_dataframe(dataframe=test_df,\n",
    "                                                directory=img_dir,\n",
    "                                                x_col=\"image\",\n",
    "                                                y_col=None,\n",
    "                                                target_size=(IMG_SIZE, IMG_SIZE),\n",
    "                                                seed=42,\n",
    "                                                shuffle=False,\n",
    "                                                batch_size=1,\n",
    "                                                class_mode=None)\n",
    "    return test_generator\n",
    "\n",
    "def get_train_data():\n",
    "    data = ImageDataGenerator(rescale=1./255)\n",
    "    data_generator = data.flow_from_dataframe(dataframe=train_df,\n",
    "                                                directory=img_dir,\n",
    "                                                x_col=\"image\",\n",
    "                                                y_col=\"category\",\n",
    "                                                target_size=(IMG_SIZE, IMG_SIZE),\n",
    "                                                batch_size=BATCH_SIZE,\n",
    "                                                seed=42,\n",
    "                                                class_mode=\"categorical\")\n",
    "    return data_generator"
   ]
  },
  {
   "cell_type": "code",
   "execution_count": 17,
   "metadata": {
    "colab": {},
    "colab_type": "code",
    "id": "n4l5QzLNAfBb"
   },
   "outputs": [],
   "source": [
    "def get_modelInceptionResNetV2(train_generator,valid_generator,epochs,IMG_SIZE):\n",
    "    print('Running keras application for InceptionResNetV2')\n",
    "    base_model = InceptionResNetV2(weights='../input/inceptionresnetv2/inception_resnet_v2_weights_tf_dim_ordering_tf_kernels_notop.h5', include_top=False, input_shape=(IMG_SIZE,IMG_SIZE,3))\n",
    "    print('Model loaded')\n",
    "    x=base_model.output\n",
    "    x=GlobalAveragePooling2D()(x)\n",
    "    x=Dense(1024,activation='relu')(x)\n",
    "    dropout1 = Dropout(0.7)\n",
    "    x = dropout1(x)\n",
    "    preds=Dense(5,activation='softmax')(x)\n",
    "    model=Model(inputs=base_model.input,outputs=preds)\n",
    "\n",
    "    adam = tf.train.AdamOptimizer(learning_rate=0.0001)\n",
    "    rmsProp=RMSprop(lr=0.0001, rho=0.9, epsilon=None, decay=0.0)\n",
    "    model.compile(optimizer=rmsProp,loss='categorical_crossentropy',metrics=['accuracy'])\n",
    "    early_stop = EarlyStopping(monitor='val_acc', patience=20, verbose=1, \n",
    "                           mode='auto', restore_best_weights=True)\n",
    "    reduce_lr = ReduceLROnPlateau(monitor='val_loss', factor=0.3, patience=5, \n",
    "                                verbose=1, mode='auto')\n",
    "    check=ModelCheckpoint('.mdl_wts.inceptionResnetv2.hdf5', save_best_only=True, monitor='val_loss', mode='min')\n",
    "    import time\n",
    "    STEP_SIZE_TRAIN=train_generator.n//train_generator.batch_size\n",
    "    STEP_SIZE_VALID=valid_generator.n//valid_generator.batch_size\n",
    "    start = time.time()\n",
    "    history = model.fit_generator(\n",
    "        train_generator,\n",
    "          epochs=epochs,\n",
    "          steps_per_epoch=STEP_SIZE_TRAIN,\n",
    "          validation_data=valid_generator,\n",
    "          validation_steps=STEP_SIZE_VALID,\n",
    "        callbacks=[reduce_lr,check,early_stop]\n",
    "    )\n",
    "    print(\"Time taken to train-test split: \", (time.time() - start)/60)\n",
    "    print('plotting')\n",
    "    loss_accuracy_plot(history)\n",
    "    return model\n",
    "\n",
    "def get_modelVGG(train_generator,valid_generator,epochs,IMG_SIZE):\n",
    "    print('Running keras application for VGG')\n",
    "    base_model = VGG16(weights='../input/keras-pretrained-models/vgg16_weights_tf_dim_ordering_tf_kernels_notop.h5', include_top=False, input_shape=(IMG_SIZE,IMG_SIZE,3))\n",
    "    print('Model loaded')\n",
    "    x=base_model.output\n",
    "    x=GlobalAveragePooling2D()(x)\n",
    "    x=Dense(1024,activation='relu')(x)\n",
    "    dropout1 = Dropout(0.7)\n",
    "    x = dropout1(x)\n",
    "    preds=Dense(5,activation='softmax')(x)\n",
    "    model=Model(inputs=base_model.input,outputs=preds)\n",
    "\n",
    "    adam = tf.train.AdamOptimizer(learning_rate=0.0001)\n",
    "    rmsProp=RMSprop(lr=0.0001, rho=0.9, epsilon=None, decay=0.0)\n",
    "    model.compile(optimizer=rmsProp,loss='categorical_crossentropy',metrics=['accuracy'])\n",
    "    early_stop = EarlyStopping(monitor='val_acc', patience=20, verbose=1, \n",
    "                           mode='auto', restore_best_weights=True)\n",
    "    reduce_lr = ReduceLROnPlateau(monitor='val_loss', factor=0.3, patience=5, \n",
    "                                verbose=1, mode='auto')\n",
    "    check=ModelCheckpoint('.mdl_wts.vgg.hdf5', save_best_only=True, monitor='val_loss', mode='min')\n",
    "    import time\n",
    "    STEP_SIZE_TRAIN=train_generator.n//train_generator.batch_size\n",
    "    STEP_SIZE_VALID=valid_generator.n//valid_generator.batch_size\n",
    "    start = time.time()\n",
    "    history = model.fit_generator(\n",
    "        train_generator,\n",
    "          epochs=epochs,\n",
    "          steps_per_epoch=STEP_SIZE_TRAIN,\n",
    "          validation_data=valid_generator,\n",
    "          validation_steps=STEP_SIZE_VALID,\n",
    "        callbacks=[reduce_lr,check,early_stop]\n",
    "    )\n",
    "    print(\"Time taken to train-test split: \", (time.time() - start)/60)\n",
    "    print('plotting')\n",
    "    loss_accuracy_plot(history)\n",
    "    return model\n",
    "\n",
    "def get_modelResnet50(train_generator,valid_generator,epochs,IMG_SIZE):\n",
    "    print('Running keras application for Resnet50')\n",
    "    base_model = ResNet50(weights='../input/keras-pretrained-models/resnet50_weights_tf_dim_ordering_tf_kernels_notop.h5', include_top=False, input_shape=(IMG_SIZE,IMG_SIZE,3))\n",
    "    print('Model loaded')\n",
    "    x=base_model.output\n",
    "    x=GlobalAveragePooling2D()(x)\n",
    "    x=Dense(1024,activation='relu')(x)\n",
    "    dropout1 = Dropout(0.7)\n",
    "    x = dropout1(x)\n",
    "    preds=Dense(5,activation='softmax')(x)\n",
    "    model=Model(inputs=base_model.input,outputs=preds)\n",
    "\n",
    "    adam = tf.train.AdamOptimizer(learning_rate=0.0001)\n",
    "    rmsProp=RMSprop(lr=0.0001, rho=0.9, epsilon=None, decay=0.0)\n",
    "    model.compile(optimizer=rmsProp,loss='categorical_crossentropy',metrics=['accuracy'])\n",
    "    early_stop = EarlyStopping(monitor='val_acc', patience=20, verbose=1, \n",
    "                           mode='auto', restore_best_weights=True)\n",
    "    reduce_lr = ReduceLROnPlateau(monitor='val_loss', factor=0.3, patience=5, \n",
    "                                verbose=1, mode='auto')\n",
    "    check=ModelCheckpoint('.mdl_wts.resnet50.hdf5', save_best_only=True, monitor='val_loss', mode='min')\n",
    "    import time\n",
    "    STEP_SIZE_TRAIN=train_generator.n//train_generator.batch_size\n",
    "    STEP_SIZE_VALID=valid_generator.n//valid_generator.batch_size\n",
    "    start = time.time()\n",
    "    history = model.fit_generator(\n",
    "        train_generator,\n",
    "          epochs=epochs,\n",
    "          steps_per_epoch=STEP_SIZE_TRAIN,\n",
    "          validation_data=valid_generator,\n",
    "          validation_steps=STEP_SIZE_VALID,\n",
    "        callbacks=[reduce_lr,check,early_stop]\n",
    "    )\n",
    "    print(\"Time taken to train-test split: \", (time.time() - start)/60)\n",
    "    print('plotting')\n",
    "    loss_accuracy_plot(history)\n",
    "    return model\n",
    "\n",
    "#great\n",
    "def get_modelInceptionV3(train_generator,valid_generator,epochs,IMG_SIZE):\n",
    "    print('Running keras application for InceptionV3')\n",
    "    base_model = InceptionV3(weights='../input/keras-pretrained-models/inception_v3_weights_tf_dim_ordering_tf_kernels_notop.h5', include_top=False, input_shape=(IMG_SIZE,IMG_SIZE,3))\n",
    "    print('Model loaded')\n",
    "    x=base_model.output\n",
    "    x=GlobalAveragePooling2D()(x)\n",
    "    x=Dense(1024,activation='relu')(x)\n",
    "    dropout1 = Dropout(0.7)\n",
    "    x = dropout1(x)\n",
    "    preds=Dense(5,activation='softmax')(x)\n",
    "    model=Model(inputs=base_model.input,outputs=preds)\n",
    "    adam = tf.train.AdamOptimizer(learning_rate=0.0001)\n",
    "    rmsProp=RMSprop(lr=0.0001, rho=0.9, epsilon=None, decay=0.0)\n",
    "    model.compile(optimizer=rmsProp,loss='categorical_crossentropy',metrics=['accuracy'])\n",
    "    early_stop = EarlyStopping(monitor='val_acc', patience=20, verbose=1, \n",
    "                           mode='auto', restore_best_weights=True)\n",
    "    reduce_lr = ReduceLROnPlateau(monitor='val_loss', factor=0.3, patience=5, \n",
    "                                verbose=1, mode='auto')\n",
    "    check=ModelCheckpoint('.mdl_wts.inceptionV3.hdf5', save_best_only=True, monitor='val_loss', mode='min')\n",
    "    import time\n",
    "    STEP_SIZE_TRAIN=train_generator.n//train_generator.batch_size\n",
    "    STEP_SIZE_VALID=valid_generator.n//valid_generator.batch_size\n",
    "    start = time.time()\n",
    "    history = model.fit_generator(\n",
    "        train_generator,\n",
    "          epochs=epochs,\n",
    "          steps_per_epoch=STEP_SIZE_TRAIN,\n",
    "          validation_data=valid_generator,\n",
    "          validation_steps=STEP_SIZE_VALID\n",
    "        ,\n",
    "        callbacks=[reduce_lr,check,early_stop]\n",
    "    )\n",
    "    print(\"Time taken to train-test split: \", (time.time() - start)/60)\n",
    "    print('plotting')\n",
    "    loss_accuracy_plot(history)\n",
    "    return model\n",
    "\n",
    "def get_modelXception(train_generator,valid_generator,epochs,IMG_SIZE):\n",
    "    print('Running keras application for Xception')\n",
    "    base_model = Xception(weights='../input/keras-pretrained-models/xception_weights_tf_dim_ordering_tf_kernels_notop.h5', include_top=False, input_shape=(IMG_SIZE,IMG_SIZE,3))\n",
    "    print('Model loaded')\n",
    "    x=base_model.output\n",
    "    x=GlobalAveragePooling2D()(x)\n",
    "    x=Dense(1024,activation='relu')(x)\n",
    "    dropout1 = Dropout(0.7)\n",
    "    x = dropout1(x)\n",
    "    preds=Dense(5,activation='softmax')(x)\n",
    "    model=Model(inputs=base_model.input,outputs=preds)\n",
    "    adam = tf.train.AdamOptimizer(learning_rate=0.0001)\n",
    "    rmsProp=RMSprop(lr=0.0001, rho=0.9, epsilon=None, decay=0.0)\n",
    "    model.compile(optimizer=rmsProp,loss='categorical_crossentropy',metrics=['accuracy'])\n",
    "    early_stop = EarlyStopping(monitor='val_acc', patience=20, verbose=1, \n",
    "                           mode='auto', restore_best_weights=True)\n",
    "    reduce_lr = ReduceLROnPlateau(monitor='val_loss', factor=0.3, patience=5, \n",
    "                                verbose=1, mode='auto')\n",
    "    check=ModelCheckpoint('.mdl_wts.xception.hdf5', save_best_only=True, monitor='val_loss', mode='min')\n",
    "    STEP_SIZE_TRAIN=train_generator.n//train_generator.batch_size\n",
    "    STEP_SIZE_VALID=valid_generator.n//valid_generator.batch_size\n",
    "    start = time.time()\n",
    "    history = model.fit_generator(\n",
    "        train_generator,\n",
    "          epochs=epochs,\n",
    "          steps_per_epoch=STEP_SIZE_TRAIN,\n",
    "          validation_data=valid_generator,\n",
    "          validation_steps=STEP_SIZE_VALID,\n",
    "        callbacks=[reduce_lr,check,early_stop]\n",
    "    )\n",
    "    print(\"Time taken to train-test split: \", (time.time() - start)/60)\n",
    "    print('plotting')\n",
    "    loss_accuracy_plot(history)\n",
    "    return model\n",
    "\n",
    "\n",
    "\n",
    "def predict_main(model,epochs):\n",
    "    print('getting_train_test_generator')\n",
    "    train_generator_main= get_train_data()\n",
    "    test_generator_main=get_test_data()\n",
    "    STEP_SIZE_TRAIN=test_generator_main.n//test_generator_main.batch_size\n",
    "    start = time.time()\n",
    "    history = model.fit_generator(\n",
    "         train_generator_main,\n",
    "          epochs=epochs,\n",
    "          steps_per_epoch=STEP_SIZE_TRAIN\n",
    "    )\n",
    "    print(\"Time taken to train: \", (time.time() - start)/60)\n",
    "    print('start predicting')\n",
    "    predictions = model.predict_generator(test_generator_main, verbose=1)\n",
    "    return predictions\n",
    "\n",
    "\n",
    "def submission(pred,model):\n",
    "    pred=np.argmax(pred,axis=1)\n",
    "    results=pd.DataFrame({\"image\":test_df[\"image\"],\n",
    "                        \"category\":pred})\n",
    "    results['category']=results['category'].apply(lambda x: x+1)\n",
    "    print(results['category'].value_counts())\n",
    "    results.to_csv('sub_generator_'+model+'.csv',index=False)\n",
    "    print(results.head(10))\n",
    "  \n",
    "  \n",
    "import time"
   ]
  },
  {
   "cell_type": "code",
   "execution_count": 18,
   "metadata": {},
   "outputs": [
    {
     "name": "stdout",
     "output_type": "stream",
     "text": [
      "Running keras application for Xception\n",
      "WARNING:tensorflow:From /opt/conda/lib/python3.6/site-packages/tensorflow/python/ops/resource_variable_ops.py:435: colocate_with (from tensorflow.python.framework.ops) is deprecated and will be removed in a future version.\n",
      "Instructions for updating:\n",
      "Colocations handled automatically by placer.\n",
      "Model loaded\n",
      "WARNING:tensorflow:From /opt/conda/lib/python3.6/site-packages/tensorflow/python/keras/layers/core.py:143: calling dropout (from tensorflow.python.ops.nn_ops) with keep_prob is deprecated and will be removed in a future version.\n",
      "Instructions for updating:\n",
      "Please use `rate` instead of `keep_prob`. Rate should be set to `rate = 1 - keep_prob`.\n",
      "WARNING:tensorflow:From /opt/conda/lib/python3.6/site-packages/tensorflow/python/ops/math_ops.py:3066: to_int32 (from tensorflow.python.ops.math_ops) is deprecated and will be removed in a future version.\n",
      "Instructions for updating:\n",
      "Use tf.cast instead.\n",
      "Epoch 1/10\n",
      "98/98 [==============================] - 11s 111ms/step - loss: 0.1960 - acc: 0.9424\n",
      "294/294 [==============================] - 170s 577ms/step - loss: 0.4471 - acc: 0.8447 - val_loss: 0.1960 - val_acc: 0.9424\n",
      "Epoch 2/10\n",
      "98/98 [==============================] - 10s 98ms/step - loss: 0.1597 - acc: 0.9539\n",
      "294/294 [==============================] - 151s 515ms/step - loss: 0.1112 - acc: 0.9676 - val_loss: 0.1597 - val_acc: 0.9539\n",
      "Epoch 3/10\n",
      "98/98 [==============================] - 10s 98ms/step - loss: 0.4256 - acc: 0.9219\n",
      "294/294 [==============================] - 151s 513ms/step - loss: 0.0438 - acc: 0.9876 - val_loss: 0.4256 - val_acc: 0.9219\n",
      "Epoch 4/10\n",
      "98/98 [==============================] - 10s 98ms/step - loss: 0.2253 - acc: 0.9527\n",
      "294/294 [==============================] - 151s 513ms/step - loss: 0.0463 - acc: 0.9898 - val_loss: 0.2253 - val_acc: 0.9527\n",
      "Epoch 5/10\n",
      "98/98 [==============================] - 9s 96ms/step - loss: 0.2510 - acc: 0.9520\n",
      "294/294 [==============================] - 151s 512ms/step - loss: 0.0330 - acc: 0.9927 - val_loss: 0.2510 - val_acc: 0.9520\n",
      "Epoch 6/10\n",
      "98/98 [==============================] - 10s 98ms/step - loss: 0.2298 - acc: 0.9565\n",
      "294/294 [==============================] - 150s 512ms/step - loss: 0.0239 - acc: 0.9932 - val_loss: 0.2298 - val_acc: 0.9565\n",
      "Epoch 7/10\n",
      "98/98 [==============================] - 10s 98ms/step - loss: 0.2336 - acc: 0.9591\n",
      "\n",
      "Epoch 00007: ReduceLROnPlateau reducing learning rate to 2.9999999242136255e-05.\n",
      "294/294 [==============================] - 151s 514ms/step - loss: 0.0158 - acc: 0.9964 - val_loss: 0.2336 - val_acc: 0.9591\n",
      "Epoch 8/10\n",
      "98/98 [==============================] - 10s 98ms/step - loss: 0.2317 - acc: 0.9610\n",
      "294/294 [==============================] - 150s 511ms/step - loss: 0.0049 - acc: 0.9981 - val_loss: 0.2317 - val_acc: 0.9610\n",
      "Epoch 9/10\n",
      "98/98 [==============================] - 10s 97ms/step - loss: 0.2248 - acc: 0.9616\n",
      "294/294 [==============================] - 151s 512ms/step - loss: 0.0080 - acc: 0.9987 - val_loss: 0.2248 - val_acc: 0.9616\n",
      "Epoch 10/10\n",
      "98/98 [==============================] - 10s 98ms/step - loss: 0.2194 - acc: 0.9642\n",
      "294/294 [==============================] - 151s 512ms/step - loss: 0.0034 - acc: 0.9991 - val_loss: 0.2194 - val_acc: 0.9642\n",
      "Time taken to train-test split:  25.589683651924133\n",
      "plotting\n"
     ]
    },
    {
     "data": {
      "image/png": "[encoded data removed]",
      "text/plain": [
       "<Figure size 1080x720 with 2 Axes>"
      ]
     },
     "metadata": {},
     "output_type": "display_data"
    },
    {
     "name": "stdout",
     "output_type": "stream",
     "text": [
      "getting_train_test_generator\n",
      "Found 6252 images belonging to 5 classes.\n",
      "Found 2680 images.\n",
      "Epoch 1/10\n",
      "391/391 [==============================] - 188s 481ms/step - loss: 0.0668 - acc: 0.9794\n",
      "Epoch 2/10\n",
      "391/391 [==============================] - 187s 479ms/step - loss: 0.0177 - acc: 0.9936\n",
      "Epoch 3/10\n",
      "391/391 [==============================] - 188s 480ms/step - loss: 0.0115 - acc: 0.9960\n",
      "Epoch 4/10\n",
      "391/391 [==============================] - 188s 481ms/step - loss: 0.0065 - acc: 0.9978\n",
      "Epoch 5/10\n",
      "391/391 [==============================] - 189s 482ms/step - loss: 0.0073 - acc: 0.9986\n",
      "Epoch 6/10\n",
      "391/391 [==============================] - 189s 483ms/step - loss: 0.0037 - acc: 0.9990\n",
      "Epoch 7/10\n",
      "391/391 [==============================] - 189s 482ms/step - loss: 0.0027 - acc: 0.9992\n",
      "Epoch 8/10\n",
      "391/391 [==============================] - 189s 483ms/step - loss: 0.0021 - acc: 0.9992\n",
      "Epoch 9/10\n",
      "391/391 [==============================] - 189s 483ms/step - loss: 0.0020 - acc: 0.9995\n",
      "Epoch 10/10\n",
      "391/391 [==============================] - 189s 483ms/step - loss: 0.0017 - acc: 0.9997\n",
      "Time taken to train:  31.389507261912026\n",
      "start predicting\n",
      "2680/2680 [==============================] - 43s 16ms/step\n",
      "1    916\n",
      "5    515\n",
      "2    503\n",
      "3    394\n",
      "4    352\n",
      "Name: category, dtype: int64\n",
      "         image  category\n",
      "0  1007700.jpg         4\n",
      "1  1011369.jpg         4\n",
      "2  1051155.jpg         4\n",
      "3  1062001.jpg         2\n",
      "4  1069397.jpg         4\n",
      "5  1072861.jpg         4\n",
      "6  1097264.jpg         4\n",
      "7  1098763.jpg         2\n",
      "8  1098766.jpg         2\n",
      "9  1101145.jpg         4\n"
     ]
    }
   ],
   "source": [
    "import time\n",
    "xception_model=get_modelXception(train_generator,valid_generator,10,IMG_SIZE)\n",
    "xception_model.load_weights(filepath = '.mdl_wts.xception.hdf5')\n",
    "y_pred_xception=predict_main(xception_model,10)\n",
    "submission(y_pred_xception,'xception_model_cb')"
   ]
  },
  {
   "cell_type": "code",
   "execution_count": 19,
   "metadata": {},
   "outputs": [
    {
     "name": "stdout",
     "output_type": "stream",
     "text": [
      "Running keras application for InceptionV3\n",
      "Model loaded\n",
      "Epoch 1/10\n",
      "98/98 [==============================] - 10s 100ms/step - loss: 0.2889 - acc: 0.9168\n",
      "294/294 [==============================] - 157s 535ms/step - loss: 0.5062 - acc: 0.8211 - val_loss: 0.2889 - val_acc: 0.9168\n",
      "Epoch 2/10\n",
      "98/98 [==============================] - 8s 81ms/step - loss: 0.2819 - acc: 0.9399\n",
      "294/294 [==============================] - 76s 258ms/step - loss: 0.1987 - acc: 0.9356 - val_loss: 0.2819 - val_acc: 0.9399\n",
      "Epoch 3/10\n",
      "98/98 [==============================] - 8s 80ms/step - loss: 0.2618 - acc: 0.9539\n",
      "294/294 [==============================] - 76s 258ms/step - loss: 0.1242 - acc: 0.9623 - val_loss: 0.2618 - val_acc: 0.9539\n",
      "Epoch 4/10\n",
      "98/98 [==============================] - 8s 80ms/step - loss: 0.6067 - acc: 0.9060\n",
      "294/294 [==============================] - 75s 254ms/step - loss: 0.0992 - acc: 0.9721 - val_loss: 0.6067 - val_acc: 0.9060\n",
      "Epoch 5/10\n",
      "98/98 [==============================] - 8s 80ms/step - loss: 0.5232 - acc: 0.9341\n",
      "294/294 [==============================] - 75s 254ms/step - loss: 0.0756 - acc: 0.9802 - val_loss: 0.5232 - val_acc: 0.9341\n",
      "Epoch 6/10\n",
      "98/98 [==============================] - 8s 80ms/step - loss: 0.3974 - acc: 0.9424\n",
      "294/294 [==============================] - 75s 255ms/step - loss: 0.0815 - acc: 0.9804 - val_loss: 0.3974 - val_acc: 0.9424\n",
      "Epoch 7/10\n",
      "98/98 [==============================] - 8s 80ms/step - loss: 1.9781 - acc: 0.8042\n",
      "294/294 [==============================] - 75s 255ms/step - loss: 0.0581 - acc: 0.9853 - val_loss: 1.9781 - val_acc: 0.8042\n",
      "Epoch 8/10\n",
      "98/98 [==============================] - 8s 81ms/step - loss: 0.8629 - acc: 0.9053\n",
      "\n",
      "Epoch 00008: ReduceLROnPlateau reducing learning rate to 2.9999999242136255e-05.\n",
      "294/294 [==============================] - 77s 261ms/step - loss: 0.1012 - acc: 0.9846 - val_loss: 0.8629 - val_acc: 0.9053\n",
      "Epoch 9/10\n",
      "98/98 [==============================] - 8s 80ms/step - loss: 0.3082 - acc: 0.9495\n",
      "294/294 [==============================] - 75s 254ms/step - loss: 0.0459 - acc: 0.9913 - val_loss: 0.3082 - val_acc: 0.9495\n",
      "Epoch 10/10\n",
      "98/98 [==============================] - 8s 80ms/step - loss: 0.2297 - acc: 0.9578\n",
      "294/294 [==============================] - 76s 258ms/step - loss: 0.0119 - acc: 0.9974 - val_loss: 0.2297 - val_acc: 0.9578\n",
      "Time taken to train-test split:  14.186504538853963\n",
      "plotting\n"
     ]
    },
    {
     "data": {
      "image/png": "[encoded data removed]",
      "text/plain": [
       "<Figure size 1080x720 with 2 Axes>"
      ]
     },
     "metadata": {},
     "output_type": "display_data"
    },
    {
     "name": "stdout",
     "output_type": "stream",
     "text": [
      "getting_train_test_generator\n",
      "Found 6252 images belonging to 5 classes.\n",
      "Found 2680 images.\n",
      "Epoch 1/10\n",
      "391/391 [==============================] - 90s 231ms/step - loss: 0.0752 - acc: 0.9834\n",
      "Epoch 2/10\n",
      "391/391 [==============================] - 89s 228ms/step - loss: 0.0254 - acc: 0.9942\n",
      "Epoch 3/10\n",
      "391/391 [==============================] - 89s 229ms/step - loss: 0.0104 - acc: 0.9968\n",
      "Epoch 4/10\n",
      "391/391 [==============================] - 89s 228ms/step - loss: 0.0121 - acc: 0.9982\n",
      "Epoch 5/10\n",
      "391/391 [==============================] - 89s 228ms/step - loss: 0.0062 - acc: 0.9987\n",
      "Epoch 6/10\n",
      "391/391 [==============================] - 89s 228ms/step - loss: 0.0035 - acc: 0.9984\n",
      "Epoch 7/10\n",
      "391/391 [==============================] - 89s 228ms/step - loss: 0.0055 - acc: 0.9989\n",
      "Epoch 8/10\n",
      "391/391 [==============================] - 89s 229ms/step - loss: 0.0052 - acc: 0.9990\n",
      "Epoch 9/10\n",
      "391/391 [==============================] - 90s 229ms/step - loss: 0.0037 - acc: 0.9987\n",
      "Epoch 10/10\n",
      "391/391 [==============================] - 89s 228ms/step - loss: 0.0025 - acc: 0.9995\n",
      "Time taken to train:  14.911159229278564\n",
      "start predicting\n",
      "2680/2680 [==============================] - 71s 27ms/step\n",
      "1    938\n",
      "2    505\n",
      "5    486\n",
      "3    392\n",
      "4    359\n",
      "Name: category, dtype: int64\n",
      "         image  category\n",
      "0  1007700.jpg         4\n",
      "1  1011369.jpg         4\n",
      "2  1051155.jpg         4\n",
      "3  1062001.jpg         2\n",
      "4  1069397.jpg         4\n",
      "5  1072861.jpg         4\n",
      "6  1097264.jpg         4\n",
      "7  1098763.jpg         2\n",
      "8  1098766.jpg         2\n",
      "9  1101145.jpg         4\n"
     ]
    }
   ],
   "source": [
    "\n",
    "inceptionV3_model=get_modelInceptionV3(train_generator,valid_generator,10,IMG_SIZE)\n",
    "inceptionV3_model.load_weights(filepath = '.mdl_wts.inceptionV3.hdf5')\n",
    "y_pred_inceptionV3=predict_main(inceptionV3_model,10)\n",
    "submission(y_pred_inceptionV3,'inceptionV3_model_cb')"
   ]
  },
  {
   "cell_type": "code",
   "execution_count": 20,
   "metadata": {
    "colab": {
     "base_uri": "https://localhost:8080/",
     "height": 1618
    },
    "colab_type": "code",
    "id": "h4DNc2KPATlF",
    "outputId": "cd14bd5c-8214-42ee-8bca-387c0f90f200"
   },
   "outputs": [
    {
     "data": {
      "text/plain": [
       "6081"
      ]
     },
     "execution_count": 20,
     "metadata": {},
     "output_type": "execute_result"
    }
   ],
   "source": [
    "import gc\n",
    "gc.collect()\n",
    "# inceptionV3_model=get_modelInceptionV3(train_generator,valid_generator,10,IMG_SIZE)\n",
    "# y_pred_inceptionV3=predict_main(inceptionV3_model,10)\n",
    "# submission(y_pred_inceptionV3,'inceptionV3_model1')"
   ]
  },
  {
   "cell_type": "code",
   "execution_count": 21,
   "metadata": {
    "colab": {},
    "colab_type": "code",
    "id": "aB3kZcKvB_pq"
   },
   "outputs": [
    {
     "name": "stdout",
     "output_type": "stream",
     "text": [
      "Running keras application for InceptionResNetV2\n",
      "Model loaded\n",
      "Epoch 1/10\n",
      "98/98 [==============================] - 21s 216ms/step - loss: 0.4212 - acc: 0.9213\n",
      "294/294 [==============================] - 667s 2s/step - loss: 0.4443 - acc: 0.8411 - val_loss: 0.4212 - val_acc: 0.9213\n",
      "Epoch 2/10\n",
      "98/98 [==============================] - 17s 174ms/step - loss: 0.2712 - acc: 0.9469\n",
      "294/294 [==============================] - 173s 587ms/step - loss: 0.1723 - acc: 0.9463 - val_loss: 0.2712 - val_acc: 0.9469\n",
      "Epoch 3/10\n",
      "98/98 [==============================] - 17s 170ms/step - loss: 0.2834 - acc: 0.9271\n",
      "294/294 [==============================] - 170s 577ms/step - loss: 0.0904 - acc: 0.9761 - val_loss: 0.2834 - val_acc: 0.9271\n",
      "Epoch 4/10\n",
      "98/98 [==============================] - 17s 171ms/step - loss: 0.2457 - acc: 0.9597\n",
      "294/294 [==============================] - 171s 581ms/step - loss: 0.0862 - acc: 0.9808 - val_loss: 0.2457 - val_acc: 0.9597\n",
      "Epoch 5/10\n",
      "98/98 [==============================] - 16s 168ms/step - loss: 0.5538 - acc: 0.9469\n",
      "294/294 [==============================] - 169s 573ms/step - loss: 0.0683 - acc: 0.9846 - val_loss: 0.5538 - val_acc: 0.9469\n",
      "Epoch 6/10\n",
      "98/98 [==============================] - 17s 170ms/step - loss: 0.5001 - acc: 0.9207\n",
      "294/294 [==============================] - 169s 574ms/step - loss: 0.0554 - acc: 0.9846 - val_loss: 0.5001 - val_acc: 0.9207\n",
      "Epoch 7/10\n",
      "98/98 [==============================] - 17s 170ms/step - loss: 0.3630 - acc: 0.9482\n",
      "294/294 [==============================] - 168s 572ms/step - loss: 0.0535 - acc: 0.9887 - val_loss: 0.3630 - val_acc: 0.9482\n",
      "Epoch 8/10\n",
      "98/98 [==============================] - 17s 169ms/step - loss: 0.2900 - acc: 0.9443\n",
      "294/294 [==============================] - 168s 573ms/step - loss: 0.0479 - acc: 0.9919 - val_loss: 0.2900 - val_acc: 0.9443\n",
      "Epoch 9/10\n",
      "98/98 [==============================] - 16s 166ms/step - loss: 2.0929 - acc: 0.7991\n",
      "\n",
      "Epoch 00009: ReduceLROnPlateau reducing learning rate to 2.9999999242136255e-05.\n",
      "294/294 [==============================] - 173s 589ms/step - loss: 0.0671 - acc: 0.9902 - val_loss: 2.0929 - val_acc: 0.7991\n",
      "Epoch 10/10\n",
      "98/98 [==============================] - 17s 171ms/step - loss: 0.2076 - acc: 0.9661\n",
      "294/294 [==============================] - 170s 578ms/step - loss: 0.0371 - acc: 0.9949 - val_loss: 0.2076 - val_acc: 0.9661\n",
      "Time taken to train-test split:  37.35774300893148\n",
      "plotting\n"
     ]
    },
    {
     "data": {
      "image/png": "[encoded data removed]",
      "text/plain": [
       "<Figure size 1080x720 with 2 Axes>"
      ]
     },
     "metadata": {},
     "output_type": "display_data"
    },
    {
     "name": "stdout",
     "output_type": "stream",
     "text": [
      "getting_train_test_generator\n",
      "Found 6252 images belonging to 5 classes.\n",
      "Found 2680 images.\n",
      "Epoch 1/10\n",
      "391/391 [==============================] - 203s 519ms/step - loss: 0.0612 - acc: 0.9862\n",
      "Epoch 2/10\n",
      "391/391 [==============================] - 206s 528ms/step - loss: 0.0122 - acc: 0.9962\n",
      "Epoch 3/10\n",
      "391/391 [==============================] - 207s 530ms/step - loss: 0.0063 - acc: 0.9978\n",
      "Epoch 4/10\n",
      "391/391 [==============================] - 207s 530ms/step - loss: 0.0058 - acc: 0.9989\n",
      "Epoch 5/10\n",
      "391/391 [==============================] - 208s 532ms/step - loss: 0.0048 - acc: 0.9987\n",
      "Epoch 6/10\n",
      "391/391 [==============================] - 208s 532ms/step - loss: 0.0029 - acc: 0.9994\n",
      "Epoch 7/10\n",
      "391/391 [==============================] - 207s 530ms/step - loss: 0.0035 - acc: 0.9995\n",
      "Epoch 8/10\n",
      "391/391 [==============================] - 207s 530ms/step - loss: 0.0034 - acc: 0.9994\n",
      "Epoch 9/10\n",
      "391/391 [==============================] - 208s 531ms/step - loss: 1.6612e-04 - acc: 1.0000\n",
      "Epoch 10/10\n",
      "391/391 [==============================] - 207s 530ms/step - loss: 0.0019 - acc: 0.9998\n",
      "Time taken to train:  34.478966335455574\n",
      "start predicting\n",
      "2680/2680 [==============================] - 184s 69ms/step\n",
      "1    902\n",
      "5    524\n",
      "2    510\n",
      "3    390\n",
      "4    354\n",
      "Name: category, dtype: int64\n",
      "         image  category\n",
      "0  1007700.jpg         4\n",
      "1  1011369.jpg         4\n",
      "2  1051155.jpg         4\n",
      "3  1062001.jpg         2\n",
      "4  1069397.jpg         4\n",
      "5  1072861.jpg         4\n",
      "6  1097264.jpg         4\n",
      "7  1098763.jpg         2\n",
      "8  1098766.jpg         2\n",
      "9  1101145.jpg         4\n"
     ]
    }
   ],
   "source": [
    "import gc\n",
    "gc.collect()\n",
    "inception_resnet_model=get_modelInceptionResNetV2(train_generator,valid_generator,10,IMG_SIZE)\n",
    "inception_resnet_model.load_weights(filepath = '.mdl_wts.inceptionResnetv2.hdf5')\n",
    "y_pred_inception_resnet=predict_main(inception_resnet_model,10)\n",
    "submission(y_pred_inception_resnet,'inception_resnet_model_cb')"
   ]
  },
  {
   "cell_type": "code",
   "execution_count": 22,
   "metadata": {
    "colab": {
     "base_uri": "https://localhost:8080/",
     "height": 235
    },
    "colab_type": "code",
    "id": "61bJQXWtAwgx",
    "outputId": "ec3538a3-a988-4528-d7d8-23bf040f0938"
   },
   "outputs": [
    {
     "name": "stdout",
     "output_type": "stream",
     "text": [
      "1    914\n",
      "5    516\n",
      "2    502\n",
      "3    392\n",
      "4    356\n",
      "Name: category, dtype: int64\n",
      "         image  category\n",
      "0  1007700.jpg         4\n",
      "1  1011369.jpg         4\n",
      "2  1051155.jpg         4\n",
      "3  1062001.jpg         2\n",
      "4  1069397.jpg         4\n",
      "5  1072861.jpg         4\n",
      "6  1097264.jpg         4\n",
      "7  1098763.jpg         2\n",
      "8  1098766.jpg         2\n",
      "9  1101145.jpg         4\n"
     ]
    }
   ],
   "source": [
    "y_pred_ens=(y_pred_xception*0.6+y_pred_inceptionV3*0.2+y_pred_inception_resnet*0.2)\n",
    "y_pred_ens\n",
    "submission(y_pred_ens,'ensemble_3_models_cb')"
   ]
  },
  {
   "cell_type": "code",
   "execution_count": 23,
   "metadata": {
    "colab": {
     "base_uri": "https://localhost:8080/",
     "height": 302
    },
    "colab_type": "code",
    "id": "pzEVV_V0A94p",
    "outputId": "0b8a8297-5dc7-4026-80d6-a02ec5e56923"
   },
   "outputs": [
    {
     "name": "stdout",
     "output_type": "stream",
     "text": [
      "1    916\n",
      "5    512\n",
      "2    502\n",
      "3    394\n",
      "4    356\n",
      "Name: category, dtype: int64\n",
      "         image  category\n",
      "0  1007700.jpg         4\n",
      "1  1011369.jpg         4\n",
      "2  1051155.jpg         4\n",
      "3  1062001.jpg         2\n",
      "4  1069397.jpg         4\n",
      "5  1072861.jpg         4\n",
      "6  1097264.jpg         4\n",
      "7  1098763.jpg         2\n",
      "8  1098766.jpg         2\n",
      "9  1101145.jpg         4\n"
     ]
    }
   ],
   "source": [
    "y_pred_ens=(y_pred_xception*0.7+y_pred_inceptionV3*0.3)\n",
    "y_pred_ens\n",
    "submission(y_pred_ens,'ensemble_2_models_cb')"
   ]
  },
  {
   "cell_type": "code",
   "execution_count": 24,
   "metadata": {
    "colab": {
     "base_uri": "https://localhost:8080/",
     "height": 50
    },
    "colab_type": "code",
    "id": "pPEAwJ3KfbML",
    "outputId": "4d4bcc6d-5fb0-4a82-f2ed-3e2898036270"
   },
   "outputs": [],
   "source": [
    "# def get_modelNasNet(train_generator,valid_generator,epochs,IMG_SIZE):\n",
    "#   print('Running keras application for VGG16')\n",
    "#   base_model = VGG16(weights='imagenet', include_top=False,input_shape=(IMG_SIZE,IMG_SIZE,3))\n",
    "#   print('Model loaded')\n",
    "#   x=base_model.output\n",
    "#   x=GlobalAveragePooling2D()(x)\n",
    "#   x = Flatten()(x)\n",
    "#   x=Dense(1024,activation='relu')(x)\n",
    "#   dropout1 = Dropout(0.5)\n",
    "#   x = dropout1(x)\n",
    "#   x=Dense(512,activation='relu')(x)\n",
    "#   dropout2 = Dropout(0.5)\n",
    "#   x = dropout2(x)\n",
    "#   preds=Dense(5,activation='softmax')(x)\n",
    "#   model=Model(inputs=base_model.input,outputs=preds)\n",
    "#   adam = tf.train.AdamOptimizer(learning_rate=0.0001)\n",
    "#   model.compile(optimizer=adam,loss='categorical_crossentropy',metrics=['accuracy'])\n",
    "#   early_stop = EarlyStopping(monitor='val_acc', patience=20, verbose=1, \n",
    "#                            mode='auto', restore_best_weights=True)\n",
    "#   reduce_lr = ReduceLROnPlateau(monitor='val_loss', factor=0.3, patience=5, \n",
    "#                                 verbose=1, mode='auto')\n",
    "#   import time\n",
    "#   STEP_SIZE_TRAIN=train_generator.n//train_generator.batch_size\n",
    "#   STEP_SIZE_VALID=valid_generator.n//valid_generator.batch_size\n",
    "#   start = time.time()\n",
    "#   history = model.fit_generator(\n",
    "#         train_generator,\n",
    "#           epochs=epochs,\n",
    "#           steps_per_epoch=STEP_SIZE_TRAIN,\n",
    "#           validation_data=valid_generator,\n",
    "#           validation_steps=STEP_SIZE_VALID,\n",
    "#       callbacks=[early_stop]\n",
    "#   )\n",
    "#   print(\"Time taken to train-test split: \", (time.time() - start)/60)\n",
    "#   print('plotting')\n",
    "#   loss_accuracy_plot(history)\n",
    "#   return model\n",
    "\n",
    "\n",
    "# IMG_SIZE = 256\n",
    "# BATCH_SIZE = 16\n",
    "# datagen = ImageDataGenerator(rescale=1./255, validation_split=0.25,\n",
    "#                             rotation_range=40,\n",
    "#                             width_shift_range=0.2,\n",
    "#                             height_shift_range=0.2,\n",
    "#                             shear_range=0.2,\n",
    "#                             zoom_range=0.2,\n",
    "#                             horizontal_flip=True,\n",
    "#                             fill_mode='nearest')\n",
    "# train_generator = datagen.flow_from_dataframe(dataframe=train_df,\n",
    "#                                               directory=img_dir,\n",
    "#                                               x_col=\"image\",\n",
    "#                                               y_col=\"category\",\n",
    "#                                               target_size=(IMG_SIZE, IMG_SIZE),\n",
    "#                                               batch_size=BATCH_SIZE,\n",
    "#                                               seed=42,\n",
    "#                                               subset=\"training\",\n",
    "#                                               class_mode=\"categorical\",\n",
    "#                                              color_mode='rgb',\n",
    "#                                              shuffle=True)\n",
    "\n",
    "# valid_generator = datagen.flow_from_dataframe(dataframe=train_df,\n",
    "#                                               directory=img_dir,\n",
    "#                                               x_col=\"image\",\n",
    "#                                               y_col=\"category\",\n",
    "#                                               target_size=(IMG_SIZE, IMG_SIZE),\n",
    "#                                               batch_size=BATCH_SIZE,\n",
    "#                                               seed=42,\n",
    "#                                               subset=\"validation\",\n",
    "#                                               class_mode=\"categorical\",\n",
    "#                                              color_mode='rgb',\n",
    "#                                              shuffle=True)"
   ]
  },
  {
   "cell_type": "code",
   "execution_count": 25,
   "metadata": {
    "colab": {
     "base_uri": "https://localhost:8080/",
     "height": 743
    },
    "colab_type": "code",
    "id": "hL1AsHH6fftz",
    "outputId": "432e42a5-8551-4848-f381-fb2752138bc2"
   },
   "outputs": [],
   "source": []
  },
  {
   "cell_type": "code",
   "execution_count": 25,
   "metadata": {
    "colab": {},
    "colab_type": "code",
    "id": "YkkvDk6tggUo"
   },
   "outputs": [],
   "source": []
  },
  {
   "cell_type": "code",
   "execution_count": 25,
   "metadata": {
    "colab": {},
    "colab_type": "code",
    "id": "Pnls65CctCFV"
   },
   "outputs": [],
   "source": [
    "# predictions1 = model.predict_generator(test_generator, verbose=1)\n",
    "# predictions1"
   ]
  },
  {
   "cell_type": "code",
   "execution_count": 26,
   "metadata": {
    "colab": {
     "base_uri": "https://localhost:8080/",
     "height": 386
    },
    "colab_type": "code",
    "id": "LniD8cNt4zyw",
    "outputId": "8d87e884-5a85-4a09-d6d7-942181b36cbc"
   },
   "outputs": [],
   "source": [
    "\n",
    "\n",
    "# model=get_modelInceptionV3()\n",
    "# early_stop1 = EarlyStopping(monitor='acc', patience=20, verbose=1, \n",
    "#                            mode='auto', restore_best_weights=True)\n",
    "# STEP_SIZE_TRAIN=data_generator.n//data_generator.batch_size\n",
    "# start = time.time()\n",
    "\n",
    "# history = model.fit_generator(\n",
    "#         train_generator,\n",
    "#         epochs=10,\n",
    "#         steps_per_epoch=STEP_SIZE_TRAIN\n",
    "#     ,\n",
    "#     callbacks=[early_stop1]\n",
    "# )\n",
    "# print(\"Time taken to train: \", (time.time() - start)/60)"
   ]
  },
  {
   "cell_type": "code",
   "execution_count": 27,
   "metadata": {
    "colab": {
     "base_uri": "https://localhost:8080/",
     "height": 252
    },
    "colab_type": "code",
    "id": "a0B87_0r5Ol-",
    "outputId": "73dc8618-1ce4-4fe3-aaaa-aa1bfe484f46"
   },
   "outputs": [],
   "source": [
    "# predictions = model.predict_generator(test_generator, verbose=1)\n",
    "# predictions\n"
   ]
  },
  {
   "cell_type": "code",
   "execution_count": 28,
   "metadata": {
    "colab": {},
    "colab_type": "code",
    "id": "yytyBD1F5WF9"
   },
   "outputs": [],
   "source": []
  },
  {
   "cell_type": "code",
   "execution_count": 28,
   "metadata": {
    "colab": {
     "base_uri": "https://localhost:8080/",
     "height": 118
    },
    "colab_type": "code",
    "id": "yQExIYyw5abP",
    "outputId": "426793a3-0217-4563-987c-cb1231476bec"
   },
   "outputs": [],
   "source": [
    "# subfile='gdrive/My Drive/AVDeeplearning/subs/sub_generator.csv'\n"
   ]
  },
  {
   "cell_type": "code",
   "execution_count": 29,
   "metadata": {
    "colab": {
     "base_uri": "https://localhost:8080/",
     "height": 34
    },
    "colab_type": "code",
    "id": "PHcUmgyb_Q5w",
    "outputId": "6bec10b4-d6ce-4fc3-a23f-32b1943cf2a3"
   },
   "outputs": [],
   "source": [
    "# np.argmax(predictions,axis=1)"
   ]
  },
  {
   "cell_type": "code",
   "execution_count": 30,
   "metadata": {
    "colab": {
     "base_uri": "https://localhost:8080/",
     "height": 1882
    },
    "colab_type": "code",
    "id": "_i2fBlfU_qNT",
    "outputId": "4bbd7152-15a7-4de0-99c3-bcf847e0f584"
   },
   "outputs": [],
   "source": [
    "# results"
   ]
  }
 ],
 "metadata": {
  "accelerator": "GPU",
  "colab": {
   "collapsed_sections": [],
   "name": "AV Game of deep learning",
   "provenance": [],
   "version": "0.3.2"
  },
  "kernelspec": {
   "display_name": "Python 3",
   "name": "python3"
  }
 },
 "nbformat": 4,
 "nbformat_minor": 1
}
